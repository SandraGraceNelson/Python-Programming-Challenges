{
 "cells": [
  {
   "cell_type": "markdown",
   "id": "d8d58509",
   "metadata": {},
   "source": [
    "# SECTION1"
   ]
  },
  {
   "cell_type": "code",
   "execution_count": 1,
   "id": "d0fda6b4",
   "metadata": {},
   "outputs": [
    {
     "name": "stdout",
     "output_type": "stream",
     "text": [
      "please enter your nameLister\n",
      "please enter your age39\n",
      "please enter your favourite TV program Red Dwarf\n",
      "Lister\n",
      "is\n",
      "39\n",
      "years old and likes \n",
      "Red Dwarf\n"
     ]
    }
   ],
   "source": [
    "#Program1-Three in, three out\n",
    "name=input(\"please enter your name\")\n",
    "age=int(input(\"please enter your age\"))\n",
    "program=input(\"please enter your favourite TV program \")\n",
    "print(name)\n",
    "print(\"is\")\n",
    "print(age )\n",
    "print(\"years old and likes \")\n",
    "print(program)"
   ]
  },
  {
   "cell_type": "code",
   "execution_count": 2,
   "id": "4ce57dc1",
   "metadata": {},
   "outputs": [
    {
     "name": "stdout",
     "output_type": "stream",
     "text": [
      "David\n",
      "Tennant\n",
      "Tennant David\n"
     ]
    }
   ],
   "source": [
    "#Program2-Name swapper\n",
    "firstname=input()\n",
    "surname=input()\n",
    "print(surname, firstname)"
   ]
  },
  {
   "cell_type": "code",
   "execution_count": 3,
   "id": "5485df8f",
   "metadata": {},
   "outputs": [
    {
     "name": "stdout",
     "output_type": "stream",
     "text": [
      "please enter your nameLister\n",
      "please enter your age39\n",
      "please enter your favourite TV program Red Dwarf\n",
      "Lister 39\n",
      "likes watching Red Dwarf\n"
     ]
    }
   ],
   "source": [
    "#Program3-Three in, three out (formatted)\n",
    "name=input(\"please enter your name\")\n",
    "age=int(input(\"please enter your age\"))\n",
    "program=input(\"please enter your favourite TV program \")\n",
    "print(name, age)\n",
    "print(\"likes watching\", program)"
   ]
  },
  {
   "cell_type": "code",
   "execution_count": 4,
   "id": "3084ba83",
   "metadata": {},
   "outputs": [
    {
     "name": "stdout",
     "output_type": "stream",
     "text": [
      "KY\n",
      "8\n",
      "9\n",
      "HL\n",
      "KY8 9HL\n"
     ]
    }
   ],
   "source": [
    "#Program4-Postcode formatter\n",
    "a=input()\n",
    "b=int(input())\n",
    "c=int(input())\n",
    "d=input()\n",
    "print(a+str(b), str(c)+d)"
   ]
  },
  {
   "cell_type": "code",
   "execution_count": 5,
   "id": "4ad0246e",
   "metadata": {},
   "outputs": [
    {
     "name": "stdout",
     "output_type": "stream",
     "text": [
      "Please enter the following values in cm.\n",
      "Please enter the length of the rectangle.12\n",
      "Please enter the width of the rectangle.6\n",
      "the area of the rectangle is:\n",
      "72 square centimeters \n"
     ]
    }
   ],
   "source": [
    "#Program5-Calculate the area of a rectangle\n",
    "print(\"Please enter the following values in cm.\")\n",
    "length=int(input(\"Please enter the length of the rectangle.\"))\n",
    "width=int(input(\"Please enter the width of the rectangle.\"))\n",
    "area=length*width\n",
    "print(\"the area of the rectangle is:\")\n",
    "print(area, \"square centimeters \")"
   ]
  },
  {
   "cell_type": "code",
   "execution_count": 6,
   "id": "5581e24d",
   "metadata": {},
   "outputs": [
    {
     "name": "stdout",
     "output_type": "stream",
     "text": [
      "please enter two individual integers between 0 and 9\n",
      "2\n",
      "6\n",
      "8\n"
     ]
    }
   ],
   "source": [
    "#Program6-Number generator\n",
    "print(\"please enter two individual integers between 0 and 9\")\n",
    "a=int(input())\n",
    "b=int(input())\n",
    "total=a+b\n",
    "print(total)"
   ]
  },
  {
   "cell_type": "code",
   "execution_count": 7,
   "id": "bab9b13b",
   "metadata": {},
   "outputs": [
    {
     "name": "stdout",
     "output_type": "stream",
     "text": [
      "KY\n",
      "8\n",
      "9\n",
      "HL\n",
      "KY8 9HL\n"
     ]
    }
   ],
   "source": [
    "#Program7-Postcode formatter (part2)\n",
    "a=input()\n",
    "b=int(input())\n",
    "c=int(input())\n",
    "d=input()\n",
    "print(a+str(b), str(c)+d.upper())"
   ]
  },
  {
   "cell_type": "code",
   "execution_count": 8,
   "id": "a7ceca9e",
   "metadata": {},
   "outputs": [
    {
     "name": "stdout",
     "output_type": "stream",
     "text": [
      "Please enter your forename.David\n",
      "Please enter your surname.Scott\n",
      "There are 10 letters in your name\n"
     ]
    }
   ],
   "source": [
    "#Program8-Name length\n",
    "forename=str(input(\"Please enter your forename.\"))\n",
    "surname=str(input(\"Please enter your surname.\"))\n",
    "name=forename+surname\n",
    "d=len(name)\n",
    "print(\"There are\", d, \"letters in your name\")"
   ]
  },
  {
   "cell_type": "code",
   "execution_count": 9,
   "id": "52f1807d",
   "metadata": {},
   "outputs": [
    {
     "name": "stdout",
     "output_type": "stream",
     "text": [
      "please enter a choice of your sentenceLuke, I am your father\n",
      "your sentence contained the following:\n",
      "a= 2\n",
      "e 2\n",
      "i= 1\n",
      "o= 1\n",
      "u= 2\n",
      "This is total of  8 vowels\n"
     ]
    }
   ],
   "source": [
    "#Program9-Counting vowels\n",
    "a=input(\"please enter a choice of your sentence\")\n",
    "b=a. count(\"a\")\n",
    "c=a. count(\"A\")\n",
    "d=a. count(\"e\")\n",
    "e=a. count(\"E\")\n",
    "r=a. count(\"i\")\n",
    "t=a. count(\"I\")\n",
    "y=a. count(\"o\")\n",
    "i=a. count(\"O\")\n",
    "q=a. count(\"u\")\n",
    "p=a. count(\"U\")\n",
    "h=b+c+d+e+r+t+y+i+q+p\n",
    "A=b+c\n",
    "E=d+e\n",
    "I=r+t\n",
    "O=y+i\n",
    "U=q+p\n",
    "print(\"your sentence contained the following:\")\n",
    "print(\"a=\", A)\n",
    "print(\"e\", E)\n",
    "print(\"i=\", I)\n",
    "print(\"o=\", O)\n",
    "print(\"u=\", U)\n",
    "print(\"This is total of \", h,\"vowels\")"
   ]
  },
  {
   "cell_type": "code",
   "execution_count": 10,
   "id": "dcc11611",
   "metadata": {},
   "outputs": [
    {
     "name": "stdout",
     "output_type": "stream",
     "text": [
      "please enter the mail reportHe should always ensure that his answers contain as much detail as possible.\n",
      "The female comment is:\n",
      "She should always ensure that her answers contain as much detail as possible.\n"
     ]
    }
   ],
   "source": [
    "#Program10-Changing gender\n",
    "report=input(\"please enter the mail report\")\n",
    "print (\"The female comment is:\")\n",
    "a=report.replace(\"He\",\"She\")\n",
    "d=a.replace(\"his\", \"her\")\n",
    "print(d)"
   ]
  },
  {
   "cell_type": "code",
   "execution_count": 11,
   "id": "62f2c70a",
   "metadata": {},
   "outputs": [
    {
     "name": "stdout",
     "output_type": "stream",
     "text": [
      "please enter the product namePlaza Beans\n",
      "please enter the year2016\n",
      "The stock code for plaza beans is:\n",
      "Plns26\n"
     ]
    }
   ],
   "source": [
    "#Program11-Stock code generator\n",
    "name=input(\"please enter the product name\")\n",
    "year=int(input(\"please enter the year\"))\n",
    "a=str(year)\n",
    "b=name[ :2]\n",
    "c=name[-2: ]\n",
    "d=a[ :1]\n",
    "e=a[-1 :]\n",
    "print(\"The stock code for plaza beans is:\")\n",
    "print (b+c+d+e)"
   ]
  },
  {
   "cell_type": "code",
   "execution_count": 12,
   "id": "7f152dfa",
   "metadata": {},
   "outputs": [
    {
     "name": "stdout",
     "output_type": "stream",
     "text": [
      "please enter your three costs\n",
      "12.78\n",
      "6.32\n",
      "34.99\n",
      "The total cost is 54.09\n",
      "the auction companies fee is 5.0 .\n"
     ]
    }
   ],
   "source": [
    "#Program12-Auction fee\n",
    "print(\"please enter your three costs\")\n",
    "a=float(input())\n",
    "b=float(input())\n",
    "c=float(input())\n",
    "total=a+b+c\n",
    "fee=int((total*10)/100)\n",
    "print(\"The total cost is\", total)\n",
    "print(\"the auction companies fee is\", float(fee),\".\")"
   ]
  },
  {
   "cell_type": "code",
   "execution_count": 13,
   "id": "b2994d92",
   "metadata": {},
   "outputs": [
    {
     "name": "stdout",
     "output_type": "stream",
     "text": [
      "please enter the following value in cm\n",
      "please enter the radius of the circle 16\n",
      "The area of the cirvle is:\n",
      "803.84 square centimeters\n"
     ]
    }
   ],
   "source": [
    "#Program13-Calculate the area of a circle\n",
    "print(\"please enter the following value in cm\")\n",
    "r=float(input(\"please enter the radius of the circle \"))\n",
    "area=3.14*pow(r, 2)\n",
    "print(\"The area of the cirvle is:\")\n",
    "print(area,\"square centimeters\")"
   ]
  },
  {
   "cell_type": "code",
   "execution_count": 14,
   "id": "30ac69fd",
   "metadata": {},
   "outputs": [
    {
     "name": "stdout",
     "output_type": "stream",
     "text": [
      "please enter the volume of jar2712.96\n",
      "please enter the volume of one sweet2.12\n",
      "1279 sweets fit into the jar.\n"
     ]
    }
   ],
   "source": [
    "#Program14-Prize draw cheat\n",
    "a=float(input(\"please enter the volume of jar\"))\n",
    "b=float(input(\"please enter the volume of one sweet\"))\n",
    "c=int(a/b)\n",
    "print(c, \"sweets fit into the jar.\")"
   ]
  },
  {
   "cell_type": "code",
   "execution_count": 15,
   "id": "1b4c463b",
   "metadata": {},
   "outputs": [
    {
     "name": "stdout",
     "output_type": "stream",
     "text": [
      "enter the area in m2 to be painted178\n",
      "enter the area that a single pot covers25\n",
      "You will need 7 pots of paint\n",
      "You can paint 3.0 m2 with the left over paint\n"
     ]
    }
   ],
   "source": [
    "#Program15-Leftover paint\n",
    "a=float(input(\"enter the area in m2 to be painted\"))\n",
    "b=float(input(\"enter the area that a single pot covers\"))\n",
    "c=int(a/b)\n",
    "d=a%(b*c)\n",
    "print(\"You will need\", c,\"pots of paint\")\n",
    "print(\"You can paint\", d, \"m2 with the left over paint\")"
   ]
  },
  {
   "cell_type": "code",
   "execution_count": 16,
   "id": "beb549b4",
   "metadata": {},
   "outputs": [
    {
     "name": "stdout",
     "output_type": "stream",
     "text": [
      "please enter the length of a brick in centimeters 20\n",
      "please enter the length of wall in meters9.89\n",
      "47 bricks build in one row of wall.\n",
      "This is  2.0 cm short of the required wall length\n"
     ]
    }
   ],
   "source": [
    "#Program16-Laying bricks\n",
    "a=float(input(\"please enter the length of a brick in centimeters \"))\n",
    "b=float(input(\"please enter the length of wall in meters\"))\n",
    "d=a+1\n",
    "g=b*100\n",
    "c=int(g/d)\n",
    "v=g%d\n",
    "print(c,\"bricks build in one row of wall.\")\n",
    "print(\"This is \", v,\"cm short of the required wall length\")"
   ]
  },
  {
   "cell_type": "code",
   "execution_count": 17,
   "id": "78e7e8fc",
   "metadata": {},
   "outputs": [
    {
     "name": "stdout",
     "output_type": "stream",
     "text": [
      "please enter the number of carbon atoms3\n",
      "The atomic mass of C3H8 is 44\n"
     ]
    }
   ],
   "source": [
    "#Program17-Calculating the atomic weight of hydrocarbons (alkanes)\n",
    "a=int(input(\"please enter the number of carbon atoms\"))\n",
    "H_num=(a*2)+2\n",
    "mass=(a*12)+H_num\n",
    "print(\"The atomic mass of\", \"C\"+str(a)+\"H\"+str(H_num),\"is\", mass)"
   ]
  },
  {
   "cell_type": "code",
   "execution_count": 18,
   "id": "8bd16870",
   "metadata": {},
   "outputs": [
    {
     "name": "stdout",
     "output_type": "stream",
     "text": [
      "How many par 3 holes are there?6\n",
      "How many par 4 holes are there?10\n",
      "How many par 5 holes are there?2\n",
      "What is the difficulty adjustment for the course?-2\n",
      "the standard scratch score for the course is :\n",
      "66\n"
     ]
    }
   ],
   "source": [
    "#Program18-Standard scratch\n",
    "a=int(input(\"How many par 3 holes are there?\"))\n",
    "b=int(input(\"How many par 4 holes are there?\"))\n",
    "c=int(input(\"How many par 5 holes are there?\"))\n",
    "d=int(input(\"What is the difficulty adjustment for the course?\"))\n",
    "g=((a*3)+(b*4)+(c*5))-2\n",
    "print(\"the standard scratch score for the course is :\")\n",
    "print(g)"
   ]
  },
  {
   "cell_type": "code",
   "execution_count": 19,
   "id": "a94c60e7",
   "metadata": {},
   "outputs": [
    {
     "name": "stdout",
     "output_type": "stream",
     "text": [
      "what is the circumference of your wheel in millimeters?1250\n",
      "How many wheel revolution have taken place in journey?8920\n",
      "How many minutes did you cycle for?30\n",
      "You covered 11.15 km\n",
      "At an average speed of  22.3 kmh\n"
     ]
    }
   ],
   "source": [
    "#Program19-Cycling speed\n",
    "a=int(input(\"what is the circumference of your wheel in millimeters?\"))\n",
    "b=int(input(\"How many wheel revolution have taken place in journey?\"))\n",
    "c=int(input(\"How many minutes did you cycle for?\"))\n",
    "dis=(a/1000000)*b\n",
    "f=round(dis, 2)\n",
    "speed=f/(c/60)\n",
    "print (\"You covered\",f, \"km\")\n",
    "print(\"At an average speed of \", speed,\"kmh\")"
   ]
  },
  {
   "cell_type": "markdown",
   "id": "7ff5c9d2",
   "metadata": {},
   "source": [
    "# SECTION2"
   ]
  },
  {
   "cell_type": "code",
   "execution_count": 20,
   "id": "36dc73dd",
   "metadata": {},
   "outputs": [
    {
     "name": "stdout",
     "output_type": "stream",
     "text": [
      "Would you like some advice?Y\n",
      "Always know where your towel is.\n"
     ]
    }
   ],
   "source": [
    "#Program20-Advice please\n",
    "advice=str(input(\"Would you like some advice?\"))\n",
    "if advice ==\"Y\":\n",
    "    print(\"Always know where your towel is.\")"
   ]
  },
  {
   "cell_type": "code",
   "execution_count": 21,
   "id": "58262bba",
   "metadata": {},
   "outputs": [
    {
     "name": "stdout",
     "output_type": "stream",
     "text": [
      "What is Black's score?88\n",
      "what is White's score?84\n",
      "After 6.5 is added the score is:\n",
      "black- 88\n",
      "white- 90.5\n",
      "White is the winner.\n"
     ]
    }
   ],
   "source": [
    "#Program21-Go winner\n",
    "black=int(input(\"What is Black's score?\"))\n",
    "white=int(input(\"what is White's score?\"))\n",
    "white_new=white+6.5\n",
    "print(\"After 6.5 is added the score is:\")\n",
    "print (\"black-\", black)\n",
    "print(\"white-\", white_new)\n",
    "if white_new>black:\n",
    "  print(\"White is the winner.\")\n",
    "else:\n",
    "  print(\"black is the winner\")"
   ]
  },
  {
   "cell_type": "code",
   "execution_count": 22,
   "id": "8dabd2e9",
   "metadata": {},
   "outputs": [
    {
     "name": "stdout",
     "output_type": "stream",
     "text": [
      "Please enter the first amount raised.398\n",
      "Please enter the second amount raised.193\n",
      "Please enter the third amount raised.478\n",
      "A total of  1069 raised.\n",
      "This will be doubled to 2138 .\n"
     ]
    }
   ],
   "source": [
    "#Program22-Charity collection\n",
    "fa=int(input(\"Please enter the first amount raised.\"))\n",
    "se=int(input(\"Please enter the second amount raised.\"))\n",
    "th=int(input(\"Please enter the third amount raised.\"))\n",
    "total=fa+se+th\n",
    "print(\"A total of \",total,\"raised.\")\n",
    "if total>=1000:\n",
    "  total_new=total*2\n",
    "  print(\"This will be doubled to\", total_new,\".\")\n",
    "else:\n",
    "  print(\"Amount is not doubled.\")"
   ]
  },
  {
   "cell_type": "code",
   "execution_count": 23,
   "id": "7cff6df4",
   "metadata": {},
   "outputs": [
    {
     "name": "stdout",
     "output_type": "stream",
     "text": [
      "Rectangle1\n",
      "Please enter the length:12\n",
      "Please enter the width:6\n",
      "Rectangle2\n",
      "Please enter the length:7\n",
      "Please enter the width:9\n",
      "Rectangle 1 has the largest area.\n"
     ]
    }
   ],
   "source": [
    "#Program23- Calculate the area of a rectangle[part2]\n",
    "print(\"Rectangle1\")\n",
    "a=float(input(\"Please enter the length:\"))\n",
    "b=float(input(\"Please enter the width:\"))\n",
    "print(\"Rectangle2\")\n",
    "c=float(input(\"Please enter the length:\"))\n",
    "d=float(input(\"Please enter the width:\"))\n",
    "area1=a*b\n",
    "area2=c*d\n",
    "if area1>area2:\n",
    "  print(\"Rectangle 1 has the largest area.\")\n",
    "else:\n",
    "  print(\"Rectangle 2 has the largest area.\")"
   ]
  },
  {
   "cell_type": "code",
   "execution_count": 24,
   "id": "642d94cd",
   "metadata": {},
   "outputs": [
    {
     "name": "stdout",
     "output_type": "stream",
     "text": [
      "Enter sentence 1You can't handle the truth!\n",
      "Enter sentence 2Houston, we have a problem.\n",
      "The percentage of vowels in sentence 1 is: 18.52\n",
      "The percentage of vowels in sentence 2 is: 25.93\n",
      "sentence 1 has  5 vowels.\n",
      "sentence 2 has  7 vowels.\n",
      "sentence 2 has more vowels.\n"
     ]
    }
   ],
   "source": [
    "#Program24-The most vowels\n",
    "p=input(\"Enter sentence 1\")\n",
    "q=input(\"Enter sentence 2\")\n",
    "l1=p.lower()\n",
    "l2=q.lower()\n",
    "a=l1.count(\"a\")\n",
    "b=l1.count(\"e\")\n",
    "c=l1.count(\"i\")\n",
    "d=l1.count(\"o\")\n",
    "e=l1.count(\"u\")\n",
    "f=l2.count(\"a\")\n",
    "g=l2.count(\"e\")\n",
    "h=l2.count(\"i\")\n",
    "i=l2.count(\"o\")\n",
    "j=l2.count(\"u\")\n",
    "vow1=a+b+c+d\n",
    "vow2=e+f+g+h\n",
    "len1=len(l1)\n",
    "len2=len(l2)\n",
    "p1= 100/len1*vow1\n",
    "per1= round(p1,2)\n",
    "p2=100/len2*vow2\n",
    "per2=round(p2,2)\n",
    "print(\"The percentage of vowels in sentence 1 is:\",per1)\n",
    "print(\"The percentage of vowels in sentence 2 is:\",per2)\n",
    "print(\"sentence 1 has \", vow1,\"vowels.\")\n",
    "print(\"sentence 2 has \", vow2,\"vowels.\")\n",
    "if vow1>vow2:\n",
    "  print(\"sentence 1 has more vowels.\")\n",
    "else:\n",
    "  print (\"sentence 2 has more vowels.\")"
   ]
  },
  {
   "cell_type": "code",
   "execution_count": 25,
   "id": "f61678a3",
   "metadata": {},
   "outputs": [
    {
     "name": "stdout",
     "output_type": "stream",
     "text": [
      "would you like some advice?D\n",
      "Sorry, you were asked to enter Y or N.\n"
     ]
    }
   ],
   "source": [
    "#Program25-Advice please[part2]\n",
    "a=input(\"would you like some advice?\")\n",
    "if a==\"Y\":\n",
    "  print(\"Always know where your towel is.\")\n",
    "elif a==\"N\":\n",
    "  print(\"Okay.\")\n",
    "else:\n",
    "  print(\"Sorry, you were asked to enter Y or N.\")"
   ]
  },
  {
   "cell_type": "code",
   "execution_count": 26,
   "id": "2f0475e4",
   "metadata": {},
   "outputs": [
    {
     "name": "stdout",
     "output_type": "stream",
     "text": [
      "Please enter one of the two test speeds 30 and 5050\n",
      "Please enter the distance it took the car to stop in the test.39.7\n",
      "Your car failed the braking distance test.\n"
     ]
    }
   ],
   "source": [
    "#Program26-Car type check\n",
    "a=int(input(\"Please enter one of the two test speeds 30 and 50\"))\n",
    "b=float(input(\"Please enter the distance it took the car to stop in the test.\"))\n",
    "if a==30:\n",
    "  if b>14:\n",
    "    print(\"Your car failed the braking distance test\")\n",
    "  elif b<=14:\n",
    "    print(\"Your car has passed the test.\")\n",
    "else:\n",
    "  if b>38:\n",
    "    print(\"Your car failed the braking distance test.\")\n",
    "  elif b<=38:\n",
    "    print(\"Your car has passed the test.\")"
   ]
  },
  {
   "cell_type": "code",
   "execution_count": 27,
   "id": "df3f038b",
   "metadata": {},
   "outputs": [
    {
     "name": "stdout",
     "output_type": "stream",
     "text": [
      "Please enter the first amount raised.740\n",
      "Please enter the second amount raised.690\n",
      "Please enter the third amount raised.1024\n",
      "A total of 2454 was raised.\n",
      "With the company bonus, this is  4454\n"
     ]
    }
   ],
   "source": [
    "#Program27-Charity collection[part2]\n",
    "a=int(input(\"Please enter the first amount raised.\"))\n",
    "b=int(input(\"Please enter the second amount raised.\"))\n",
    "c=int(input(\"Please enter the third amount raised.\"))\n",
    "t=a+b+c\n",
    "print(\"A total of\", t, \"was raised.\")\n",
    "if t<1000:\n",
    "  t1=t+100\n",
    "  print(\"With the company bonus, this is \",t1)\n",
    "elif t>1000 and t<2000:\n",
    "  t1=t*2\n",
    "  print(\"With the company bonus, this is \",t1)\n",
    "elif t>2000:\n",
    "  t1=t+4000-2000\n",
    "  print(\"With the company bonus, this is \",t1)\n",
    "else:\n",
    "  print(\"Raised amount is not enough to double.\")"
   ]
  },
  {
   "cell_type": "markdown",
   "id": "99b8c8dd",
   "metadata": {},
   "source": [
    "# SECTION3"
   ]
  },
  {
   "cell_type": "code",
   "execution_count": 1,
   "id": "52188843",
   "metadata": {},
   "outputs": [
    {
     "name": "stdout",
     "output_type": "stream",
     "text": [
      "Which sentence would you like copied?Don't behave like a muppet in class.\n",
      "Don't behave like a muppet in class.\n",
      "Don't behave like a muppet in class.\n",
      "Don't behave like a muppet in class.\n",
      "Don't behave like a muppet in class.\n",
      "Don't behave like a muppet in class.\n",
      "Don't behave like a muppet in class.\n",
      "Don't behave like a muppet in class.\n",
      "Don't behave like a muppet in class.\n",
      "Don't behave like a muppet in class.\n",
      "Don't behave like a muppet in class.\n",
      "Don't behave like a muppet in class.\n",
      "Don't behave like a muppet in class.\n",
      "Don't behave like a muppet in class.\n",
      "Don't behave like a muppet in class.\n",
      "Don't behave like a muppet in class.\n",
      "Don't behave like a muppet in class.\n",
      "Don't behave like a muppet in class.\n",
      "Don't behave like a muppet in class.\n",
      "Don't behave like a muppet in class.\n",
      "Don't behave like a muppet in class.\n"
     ]
    }
   ],
   "source": [
    "#Program28-Line cheat\n",
    "sentence=input(\"Which sentence would you like copied?\")\n",
    "for loop in range(20):\n",
    "  print(sentence)"
   ]
  },
  {
   "cell_type": "code",
   "execution_count": 3,
   "id": "532839f1",
   "metadata": {},
   "outputs": [
    {
     "name": "stdout",
     "output_type": "stream",
     "text": [
      "Please enter the first amount raised398\n",
      "Please enter the second amount raised193\n",
      "Please enter the third amount raised478\n",
      "A total of  1069 was raised\n",
      "This will be doubled to:\n",
      "2138 !!!\n",
      "2138 !!!\n",
      "2138 !!!\n"
     ]
    }
   ],
   "source": [
    "#Program29-Charity collection (part3)\n",
    "a=int(input (\"Please enter the first amount raised\"))\n",
    "b=int(input (\"Please enter the second amount raised\"))\n",
    "c=int(input (\"Please enter the third amount raised\"))\n",
    "t=a+b+c\n",
    "print(\"A total of \", t,\"was raised\")\n",
    "t1=2*t\n",
    "print(\"This will be doubled to:\")\n",
    "for loop in range(3):\n",
    "    print(t1,\"!!!\")"
   ]
  },
  {
   "cell_type": "code",
   "execution_count": 5,
   "id": "3e1428ae",
   "metadata": {},
   "outputs": [
    {
     "name": "stdout",
     "output_type": "stream",
     "text": [
      "Plese enter the first nameMatt\n",
      "Please enter the sur nameReid\n",
      "M R MATT reid MattReid\n",
      "MattReid REID matt r m\n",
      "M R MATT reid MattReid\n",
      "MattReid REID matt r m\n",
      "M R MATT reid MattReid\n",
      "MattReid REID matt r m\n"
     ]
    }
   ],
   "source": [
    "#Program30-Name switch\n",
    "a=input(\"Plese enter the first name\")\n",
    "b=input(\"Please enter the sur name\")\n",
    "a1=a[0]. upper()\n",
    "b1=b[0]. upper()\n",
    "a2=a. upper ()\n",
    "b2=b. lower()\n",
    "c=a+b\n",
    "b3=b.upper()\n",
    "a3=a. lower()\n",
    "a4=a1.lower()\n",
    "b4=b1.lower()\n",
    "for loop in range(3):\n",
    "    print(a1,b1,a2,b2,c)\n",
    "    print(c, b3,a3,b4,a4)"
   ]
  },
  {
   "cell_type": "code",
   "execution_count": 7,
   "id": "159217e7",
   "metadata": {},
   "outputs": [
    {
     "name": "stdout",
     "output_type": "stream",
     "text": [
      "Please enter the score for each ball.\n",
      "0\n",
      "2\n",
      "0\n",
      "0\n",
      "4\n",
      "6\n",
      "This over's score was : 12\n"
     ]
    }
   ],
   "source": [
    "#Program31-Cricket over\n",
    "total=0\n",
    "print(\"Please enter the score for each ball.\")\n",
    "for loop in range(6):\n",
    "    a=int(input())\n",
    "    total=total+a\n",
    "print(\"This over's score was :\", total)"
   ]
  },
  {
   "cell_type": "code",
   "execution_count": 8,
   "id": "92589228",
   "metadata": {},
   "outputs": [
    {
     "name": "stdout",
     "output_type": "stream",
     "text": [
      "Please enter the seven temperatureS.\n",
      "12\n",
      "14\n",
      "7\n",
      "6\n",
      "7\n",
      "11\n",
      "11\n",
      "This week's average was:\n",
      "9.71 degree centigrade\n"
     ]
    }
   ],
   "source": [
    "#Program32-Average temperature\n",
    "total=0\n",
    "print(\"Please enter the seven temperatureS.\")\n",
    "for loop in range(7):\n",
    "    a=int(input())\n",
    "    total=total+a\n",
    "avg=total/7\n",
    "avg1=round (avg, 2)\n",
    "print(\"This week's average was:\")\n",
    "print(avg1,\"degree centigrade\")"
   ]
  },
  {
   "cell_type": "code",
   "execution_count": 9,
   "id": "07893548",
   "metadata": {},
   "outputs": [
    {
     "name": "stdout",
     "output_type": "stream",
     "text": [
      "Which sentence would you like copied?Mr Reid is the best teacher.\n",
      "How many times would you like this copied?54\n",
      "Mr Reid is the best teacher.\n",
      "Mr Reid is the best teacher.\n",
      "Mr Reid is the best teacher.\n",
      "Mr Reid is the best teacher.\n",
      "Mr Reid is the best teacher.\n",
      "Mr Reid is the best teacher.\n",
      "Mr Reid is the best teacher.\n",
      "Mr Reid is the best teacher.\n",
      "Mr Reid is the best teacher.\n",
      "Mr Reid is the best teacher.\n",
      "Mr Reid is the best teacher.\n",
      "Mr Reid is the best teacher.\n",
      "Mr Reid is the best teacher.\n",
      "Mr Reid is the best teacher.\n",
      "Mr Reid is the best teacher.\n",
      "Mr Reid is the best teacher.\n",
      "Mr Reid is the best teacher.\n",
      "Mr Reid is the best teacher.\n",
      "Mr Reid is the best teacher.\n",
      "Mr Reid is the best teacher.\n",
      "Mr Reid is the best teacher.\n",
      "Mr Reid is the best teacher.\n",
      "Mr Reid is the best teacher.\n",
      "Mr Reid is the best teacher.\n",
      "Mr Reid is the best teacher.\n",
      "Mr Reid is the best teacher.\n",
      "Mr Reid is the best teacher.\n",
      "Mr Reid is the best teacher.\n",
      "Mr Reid is the best teacher.\n",
      "Mr Reid is the best teacher.\n",
      "Mr Reid is the best teacher.\n",
      "Mr Reid is the best teacher.\n",
      "Mr Reid is the best teacher.\n",
      "Mr Reid is the best teacher.\n",
      "Mr Reid is the best teacher.\n",
      "Mr Reid is the best teacher.\n",
      "Mr Reid is the best teacher.\n",
      "Mr Reid is the best teacher.\n",
      "Mr Reid is the best teacher.\n",
      "Mr Reid is the best teacher.\n",
      "Mr Reid is the best teacher.\n",
      "Mr Reid is the best teacher.\n",
      "Mr Reid is the best teacher.\n",
      "Mr Reid is the best teacher.\n",
      "Mr Reid is the best teacher.\n",
      "Mr Reid is the best teacher.\n",
      "Mr Reid is the best teacher.\n",
      "Mr Reid is the best teacher.\n",
      "Mr Reid is the best teacher.\n",
      "Mr Reid is the best teacher.\n",
      "Mr Reid is the best teacher.\n",
      "Mr Reid is the best teacher.\n",
      "Mr Reid is the best teacher.\n",
      "Mr Reid is the best teacher.\n"
     ]
    }
   ],
   "source": [
    "#Program33-Lines cheat (part2)\n",
    "a=input(\"Which sentence would you like copied?\")\n",
    "b=int(input(\"How many times would you like this copied?\"))\n",
    "for loop in range(b):\n",
    "    print(a)"
   ]
  },
  {
   "cell_type": "code",
   "execution_count": 10,
   "id": "aaea5f24",
   "metadata": {},
   "outputs": [
    {
     "name": "stdout",
     "output_type": "stream",
     "text": [
      "How many charity raisers were there?6\n",
      "Enter the total raised by each:\n",
      "238\n",
      "624\n",
      "546\n",
      "333\n",
      "651\n",
      "174\n",
      "A total of  2566 raised.\n",
      "This will be increased to :\n",
      "4566 !!!\n",
      "4566 !!!\n",
      "4566 !!!\n"
     ]
    }
   ],
   "source": [
    "#Program34-Charity collection (part4)\n",
    "total=0\n",
    "a=int(input(\"How many charity raisers were there?\"))\n",
    "print(\"Enter the total raised by each:\")\n",
    "for loop in range(a):\n",
    "    b=int(input())\n",
    "    total=total+b\n",
    "print(\"A total of \", total,\"raised.\")\n",
    "total1=total+2000\n",
    "print(\"This will be increased to :\")\n",
    "for loop in range(3):\n",
    "    print(total1,\"!!!\")"
   ]
  },
  {
   "cell_type": "code",
   "execution_count": 11,
   "id": "697502b0",
   "metadata": {},
   "outputs": [
    {
     "name": "stdout",
     "output_type": "stream",
     "text": [
      "Please enter the number of students:3\n",
      "Enter the time in seconds for each students\n",
      "student 1\n",
      "82\n",
      "student 2\n",
      "67\n",
      "student 3\n",
      "45\n",
      "The average time fir the  3 student was:\n",
      "64.67 seconds\n"
     ]
    }
   ],
   "source": [
    "#Program35-Press up challenge\n",
    "total=0\n",
    "a=int(input(\"Please enter the number of students:\"))\n",
    "print(\"Enter the time in seconds for each students\")\n",
    "for loop in range(1,a+1):\n",
    "    print(\"student\", loop)\n",
    "    b=int(input())\n",
    "    total=total+b\n",
    "avg=total /a\n",
    "avg1=round(avg, 2)\n",
    "print(\"The average time fir the \",a,\"student was:\" )\n",
    "print(avg1,\"seconds\")"
   ]
  },
  {
   "cell_type": "code",
   "execution_count": 12,
   "id": "a120cb75",
   "metadata": {},
   "outputs": [
    {
     "name": "stdout",
     "output_type": "stream",
     "text": [
      "Odd Numbers list\n",
      "1\n",
      "3\n",
      "5\n",
      "7\n",
      "9\n",
      "11\n"
     ]
    }
   ],
   "source": [
    "#Program36-Number patterns\n",
    "print(\"Odd Numbers list\")\n",
    "for loop in range(0,12,2):\n",
    "    a=loop+1\n",
    "    print(a)"
   ]
  },
  {
   "cell_type": "code",
   "execution_count": 13,
   "id": "f0699698",
   "metadata": {},
   "outputs": [
    {
     "name": "stdout",
     "output_type": "stream",
     "text": [
      "The following program wiil display odd numbers.\n",
      "Enter the first number in the list5\n",
      "Enter the last number in the list13\n",
      "Odd Numbers List\n",
      "5\n",
      "7\n",
      "9\n",
      "11\n",
      "13\n"
     ]
    }
   ],
   "source": [
    "#Program37-Number pattern (part2)\n",
    "print(\"The following program wiil display odd numbers.\")\n",
    "a=int(input(\"Enter the first number in the list\"))\n",
    "b=int(input(\"Enter the last number in the list\"))\n",
    "print(\"Odd Numbers List\")\n",
    "for loop in range(a, b+1,2):\n",
    "    print(loop)"
   ]
  },
  {
   "cell_type": "code",
   "execution_count": 16,
   "id": "66f10f4a",
   "metadata": {},
   "outputs": [
    {
     "name": "stdout",
     "output_type": "stream",
     "text": [
      "Please enter the password.\n",
      "snool\n",
      "Sorry, incorrect! Try again\n",
      "Please enter the password.\n",
      "ornery\n",
      "Entry gained!\n"
     ]
    }
   ],
   "source": [
    "#Program38-Password\n",
    "while True:\n",
    "    print(\"Please enter the password.\")\n",
    "    a=input()\n",
    "    if a==\"ornery\":\n",
    "        print(\"Entry gained!\")\n",
    "        break\n",
    "    else:\n",
    "        print(\"Sorry, incorrect! Try again\")\n",
    "        continue  "
   ]
  },
  {
   "cell_type": "code",
   "execution_count": 17,
   "id": "b11830bc",
   "metadata": {},
   "outputs": [
    {
     "name": "stdout",
     "output_type": "stream",
     "text": [
      "The following program will display odd numbers.\n",
      "Enter the first number in the list\n",
      "5\n",
      "Enter the last number in the list \n",
      "17\n",
      "Sorry, the number must be at least  5 +20\n",
      "Please re-enter the number\n",
      "27\n",
      "odd numbers list\n",
      "5\n",
      "7\n",
      "9\n",
      "11\n",
      "13\n",
      "15\n",
      "17\n",
      "19\n",
      "21\n",
      "23\n",
      "25\n"
     ]
    }
   ],
   "source": [
    "#Program39-Number pattern (part3)\n",
    "print(\"The following program will display odd numbers.\")\n",
    "print(\"Enter the first number in the list\")\n",
    "a=int(input())\n",
    "print(\"Enter the last number in the list \")\n",
    "while True:\n",
    "    b=int(input())\n",
    "    if b>a+20:\n",
    "        print(\"odd numbers list\")\n",
    "        for loop in range (a,b,2):\n",
    "            print(loop)\n",
    "        break\n",
    "    else:\n",
    "        print(\"Sorry, the number must be at least \",a,\"+20\")\n",
    "        print(\"Please re-enter the number\")\n",
    "        continue"
   ]
  },
  {
   "cell_type": "code",
   "execution_count": 19,
   "id": "f134e60b",
   "metadata": {},
   "outputs": [
    {
     "name": "stdout",
     "output_type": "stream",
     "text": [
      "Would you like some advice?\n",
      "H\n",
      "Please enter Y or N only.\n",
      "Would you like some advice?\n",
      "N\n",
      "Don't be silly. You definetly need advice!\n",
      "Would you like some advice?\n",
      "Y\n",
      "Don't feed the trolls!\n"
     ]
    }
   ],
   "source": [
    "#Program40-Advice please (part3)\n",
    "while True:\n",
    "    print(\"Would you like some advice?\")\n",
    "    a=input()\n",
    "    if a==\"Y\":\n",
    "        print(\"Don't feed the trolls!\")\n",
    "        break\n",
    "    elif a==\"N\":\n",
    "        print(\"Don't be silly. You definetly need advice!\")\n",
    "        continue\n",
    "    else:\n",
    "        print(\"Please enter Y or N only.\")"
   ]
  },
  {
   "cell_type": "code",
   "execution_count": 21,
   "id": "d7b8e108",
   "metadata": {},
   "outputs": [
    {
     "name": "stdout",
     "output_type": "stream",
     "text": [
      "Please enter the price of each present:\n",
      "35\n",
      "100\n",
      "50\n",
      "45\n",
      "Limit Exceeded.\n",
      "You can't handle the  45 present.\n"
     ]
    }
   ],
   "source": [
    "#Program41-No more presents\n",
    "print(\"Please enter the price of each present:\")\n",
    "sum=0\n",
    "while True:\n",
    "    a=int(input())\n",
    "    sum=sum+a\n",
    "    if sum>200:\n",
    "        print(\"Limit Exceeded.\")\n",
    "        print(\"You can't handle the \",a,\"present.\")\n",
    "        break\n",
    "    else:\n",
    "        continue"
   ]
  },
  {
   "cell_type": "code",
   "execution_count": 22,
   "id": "c076f73b",
   "metadata": {},
   "outputs": [
    {
     "name": "stdout",
     "output_type": "stream",
     "text": [
      "Enter your choice(Q, A, K or L)\n",
      "a\n",
      "A selected \n"
     ]
    }
   ],
   "source": [
    "#Program42-Menu system{run1}\n",
    "print(\"Enter your choice(Q, A, K or L)\")\n",
    "while True:\n",
    "    a=input()\n",
    "    b=a. upper()\n",
    "    if b==\"Q\"or b==\"A\" or b==\"K\" or b==\"L\":\n",
    "        print(b, \"selected \")\n",
    "        break\n",
    "    else:\n",
    "        print(b, \"is not valid. Enter Q, A, K or L\")\n",
    "        continue"
   ]
  },
  {
   "cell_type": "code",
   "execution_count": 23,
   "id": "ca983095",
   "metadata": {},
   "outputs": [
    {
     "name": "stdout",
     "output_type": "stream",
     "text": [
      "Enter your choice(Q, A, K or L)\n",
      "V\n",
      "V is not valid. Enter Q, A, K or L\n",
      "L\n",
      "L selected \n"
     ]
    }
   ],
   "source": [
    "#Program42-Menu system{run2}\n",
    "print(\"Enter your choice(Q, A, K or L)\")\n",
    "while True:\n",
    "    a=input()\n",
    "    b=a. upper()\n",
    "    if b==\"Q\"or b==\"A\" or b==\"K\" or b==\"L\":\n",
    "        print(b, \"selected \")\n",
    "        break\n",
    "    else:\n",
    "        print(b, \"is not valid. Enter Q, A, K or L\")\n",
    "        continue"
   ]
  },
  {
   "cell_type": "code",
   "execution_count": 24,
   "id": "a405697d",
   "metadata": {},
   "outputs": [
    {
     "name": "stdout",
     "output_type": "stream",
     "text": [
      "Guess the hidden number between 1 and 100.\n",
      "Enter your guess.\n",
      "112\n",
      "Your guess is not valid. Enter it again.\n",
      "67\n",
      "Your guess is too high. Try again.\n",
      "50\n",
      "Your guess is too low. Try again.\n",
      "52\n",
      "Correct! Well Done.\n"
     ]
    }
   ],
   "source": [
    "#Program43-Guess the number\n",
    "print(\"Guess the hidden number between 1 and 100.\")\n",
    "print(\"Enter your guess.\")\n",
    "while True:\n",
    "    a=int(input())\n",
    "    if a==52:\n",
    "        print(\"Correct! Well Done.\")\n",
    "        break\n",
    "    elif a>52 and a<100:\n",
    "        print(\"Your guess is too high. Try again.\")\n",
    "    elif a<52 and a>1:\n",
    "        print(\"Your guess is too low. Try again.\")\n",
    "    else:\n",
    "        print(\"Your guess is not valid. Enter it again.\")\n",
    "        continue"
   ]
  },
  {
   "cell_type": "code",
   "execution_count": 29,
   "id": "978717e9",
   "metadata": {},
   "outputs": [
    {
     "name": "stdout",
     "output_type": "stream",
     "text": [
      "Week 1\n",
      "Please enter the seven temperatures.\n",
      "12\n",
      "14\n",
      "7\n",
      "6\n",
      "66\n",
      "Temperature should be between -40 and 55\n",
      "7\n",
      "11\n",
      "11\n",
      "Week 2\n",
      "Please enter the seven temperatures.\n",
      "12\n",
      "21\n",
      "6\n",
      "22\n",
      "10\n",
      "14\n",
      "11\n",
      "Week 3\n",
      "Please enter the seven temperatures.\n",
      "33\n",
      "12\n",
      "16\n",
      "42\n",
      "11\n",
      "11\n",
      "9\n",
      "Week 4\n",
      "Please enter the seven temperatures.\n",
      "6\n",
      "11\n",
      "21\n",
      "42\n",
      "12\n",
      "41\n",
      "11\n",
      "week 1 average was:\n",
      "8.71 degrees centigrade\n",
      "week 2 average was:\n",
      "13.71 degrees centigrade\n",
      "week 3 average was:\n",
      "19.14 degrees centigrade\n",
      "week 4 average was:\n",
      "20.57 degrees centigrade\n"
     ]
    }
   ],
   "source": [
    "#Program44-Average temperature (part2)\n",
    "p=[]\n",
    "for loop in range(4):\n",
    "    print(\"Week\", loop+1)\n",
    "    print(\"Please enter the seven temperatures.\")\n",
    "    sum=0\n",
    "    for i in range(7):\n",
    "        a=int(input())\n",
    "        if a<-40 or a>55:\n",
    "            print(\"Temperature should be between -40 and 55\")\n",
    "            a=int(input())\n",
    "            continue\n",
    "        sum=sum+a\n",
    "    b=sum/7\n",
    "    c=round(b, 2)\n",
    "    p.append(c)\n",
    "for i in range(len(p)):\n",
    "    print(\"week\", i+1,\"average was:\")\n",
    "    print(p[i],\"degrees centigrade\")"
   ]
  },
  {
   "cell_type": "code",
   "execution_count": 9,
   "id": "9b802c2e",
   "metadata": {},
   "outputs": [
    {
     "name": "stdout",
     "output_type": "stream",
     "text": [
      "Please enter the scores of player 1\n",
      "34\n",
      "26\n",
      "200\n",
      "Invalid Score\n",
      "100\n",
      "Please enter the scores of player 2\n",
      "78\n",
      "80\n",
      "97\n",
      "Player two scored the highest indivudual score.\n",
      "Player two wins!!\n"
     ]
    }
   ],
   "source": [
    "#Program45-Pailwater darts tournament\n",
    "s=[]\n",
    "for loop in range(2):\n",
    "    sum=0\n",
    "    print(\"Please enter the scores of player\", str(loop+1))\n",
    "    for i in range(3):\n",
    "        sum=0\n",
    "        a=int(input())\n",
    "        if a<0 or a>180:\n",
    "            print(\"Invalid Score\")\n",
    "            a=int(input())\n",
    "            continue\n",
    "        sum=sum+a\n",
    "    s.append(sum)\n",
    "for k in range(1):\n",
    "    if s[k]>s[k+1]:\n",
    "        print(\"Player one scored the highest individual score.\")\n",
    "        print(\"Player one wins \")\n",
    "    else:\n",
    "        print(\"Player two scored the highest indivudual score.\")\n",
    "        print(\"Player two wins!!\")"
   ]
  },
  {
   "cell_type": "markdown",
   "id": "973922e7",
   "metadata": {},
   "source": [
    "# SECTION4"
   ]
  },
  {
   "cell_type": "code",
   "execution_count": 10,
   "id": "9357c1ea",
   "metadata": {},
   "outputs": [
    {
     "name": "stdout",
     "output_type": "stream",
     "text": [
      "Mountain Bike\n",
      "Ski Jacket\n",
      "Electric Guitar\n",
      "PS3 - 500gb\n",
      "Badminton Racquet\n"
     ]
    }
   ],
   "source": [
    "#Program46-For sale\n",
    "a=[\"Mountain Bike\",\"Ski Jacket\",\"Electric Guitar\",\"PS3 - 500gb\",\"Badminton Racquet\"]\n",
    "for loop in range(len(a)):\n",
    "    print(a[loop])"
   ]
  },
  {
   "cell_type": "code",
   "execution_count": 11,
   "id": "9a5a3f70",
   "metadata": {},
   "outputs": [
    {
     "name": "stdout",
     "output_type": "stream",
     "text": [
      "Mountain Bike - 200\n",
      "Ski Jacket - 67\n",
      "Electric Guitar - 330\n",
      "PS3 - 500gb - 120\n",
      "Badminton Racquet - 15\n"
     ]
    }
   ],
   "source": [
    "#Program47-For sale [Part2]\n",
    "a=[\"Mountain Bike\",\"Ski Jacket\",\"Electric Guitar\",\"PS3 - 500gb\",\"Badminton Racquet\"]\n",
    "b=[200,67,330,120,15]\n",
    "for loop in range(len(a)):\n",
    "    print(a[loop],\"-\",b[loop])"
   ]
  },
  {
   "cell_type": "code",
   "execution_count": 12,
   "id": "0d9116cb",
   "metadata": {},
   "outputs": [
    {
     "name": "stdout",
     "output_type": "stream",
     "text": [
      "Please enter the score for each ball.\n",
      "0\n",
      "2\n",
      "0\n",
      "0\n",
      "4\n",
      "6\n",
      "This over's score was: 12\n",
      "With each ball scoring:\n",
      "0\n",
      "2\n",
      "0\n",
      "0\n",
      "4\n",
      "6\n"
     ]
    }
   ],
   "source": [
    "#Program48-Cricket over [Part2]\n",
    "sum=0\n",
    "s=[]\n",
    "print(\"Please enter the score for each ball.\")\n",
    "for loop in range(6):\n",
    "    a=int(input())\n",
    "    s.append(a)\n",
    "    sum=sum+a\n",
    "print(\"This over's score was:\",sum) \n",
    "print(\"With each ball scoring:\")\n",
    "for i in range(len(s)):\n",
    "    print(s[i])"
   ]
  },
  {
   "cell_type": "code",
   "execution_count": 13,
   "id": "ff04464e",
   "metadata": {},
   "outputs": [
    {
     "name": "stdout",
     "output_type": "stream",
     "text": [
      "Please enter a name:\n",
      "Jean Gray\n",
      "Please enter Jean Gray 's age:\n",
      "13\n",
      "Please enter a name:\n",
      "Max Eisenhardt\n",
      "Please enter Max Eisenhardt 's age:\n",
      "24\n",
      "Please enter a name:\n",
      "James Howlett\n",
      "Please enter James Howlett 's age:\n",
      "15\n",
      "Please enter a name:\n",
      "Aleksy Nowak\n",
      "Please enter Aleksy Nowak 's age:\n",
      "9\n",
      "Names and competition List: \n",
      "Jean Gray - Teen\n",
      "Max Eisenhardt - Senior\n",
      "James Howlett - Teen\n",
      "Aleksy Nowak - Junior\n"
     ]
    }
   ],
   "source": [
    "#Program49-Dance group\n",
    "w=[]\n",
    "d=[]\n",
    "for loop in range(4):\n",
    "    print(\"Please enter a name:\")\n",
    "    a=input()\n",
    "    w.append(a)\n",
    "    print(\"Please enter\",a,\"'s age:\")\n",
    "    b=int(input())\n",
    "    if b<=12:\n",
    "        t=\"Junior\"\n",
    "        d.append(t)\n",
    "    elif b>12 and b<=17:\n",
    "        t=\"Teen\"\n",
    "        d.append(t)\n",
    "    else:\n",
    "        t=\"Senior\"\n",
    "        d.append(t)\n",
    "print(\"Names and competition List: \")        \n",
    "for i in range(len(w)):\n",
    "    print(w[i],\"-\",d[i])"
   ]
  },
  {
   "cell_type": "code",
   "execution_count": 15,
   "id": "59217b65",
   "metadata": {},
   "outputs": [
    {
     "name": "stdout",
     "output_type": "stream",
     "text": [
      "Please enter the details of your horse.\n",
      "Maximum height:\n",
      "16\n",
      "Maximum age:\n",
      "15\n",
      "Suitable horses are:\n",
      "Black Beauty 14 years 15 hands\n",
      "Francine 8 years 14 hands\n",
      "Langrish 15 years 14 hands\n"
     ]
    }
   ],
   "source": [
    "#Program50-Horse hands\n",
    "horse=[\"Black Beauty\", \"Francine\", \"Langrish\"]\n",
    "ages=[14,8,15]\n",
    "heights=[15,14,14]\n",
    "print(\"Please enter the details of your horse.\")\n",
    "print(\"Maximum height:\")\n",
    "h=int(input())\n",
    "print(\"Maximum age:\")\n",
    "a=int(input())\n",
    "print(\"Suitable horses are:\")\n",
    "for i in range(3):\n",
    "    age=ages[i]\n",
    "    height=heights[i]\n",
    "    if age<=a and height<=h:\n",
    "        print(horse[i],age,\"years\",height,\"hands\")\n",
    "    else:\n",
    "        print(\"Unavailable\")"
   ]
  },
  {
   "cell_type": "code",
   "execution_count": 16,
   "id": "6e6b2630",
   "metadata": {},
   "outputs": [
    {
     "name": "stdout",
     "output_type": "stream",
     "text": [
      "house floor area calculator.\n",
      "Please enter the number of rooms:\n",
      "3\n",
      "Please enter the name of room 1: Lounge\n",
      "Please enter the length of room 1: 3.56\n",
      "Please enter the width of room 1: 4.7\n",
      "Please enter the name of room 2: Kitchen\n",
      "Please enter the length of room 2: 2.26\n",
      "Please enter the width of room 2: 3.69\n",
      "Please enter the name of room 3: Bedroom\n",
      "Please enter the length of room 3: 4.5\n",
      "Please enter the width of room 3: 4.7\n",
      "House details:\n",
      "room - Lounge\n",
      "16.7 metres squared\n",
      "room - Kitchen\n",
      "8.3 metres squared\n",
      "room - Bedroom\n",
      "21.2 metres squared\n",
      "Total area is :\n",
      "46.2  meteres squared\n"
     ]
    }
   ],
   "source": [
    "#Program51-House size\n",
    "rooms=[]\n",
    "length=[]\n",
    "width=[]\n",
    "area=[]\n",
    "print(\"house floor area calculator.\")\n",
    "print(\"Please enter the number of rooms:\")\n",
    "n=int(input())\n",
    "for i in range(n):\n",
    "    name=input('Please enter the name of room '+ str(i+1) + ': ')\n",
    "    rooms.append(name)\n",
    "    l=float(input('Please enter the length of room '+str(i+1)+': '))\n",
    "    length.append(l)\n",
    "    w=float(input('Please enter the width of room '+str(i+1)+': '))\n",
    "    width.append(w)\n",
    "    a=round(length[i]*width[i],1)\n",
    "    area.append(a)\n",
    "print(\"House details:\")\n",
    "total=0\n",
    "for j in range(n):\n",
    "    print(\"room -\", rooms[j])\n",
    "    print(area[j], \"metres squared\")\n",
    "    total=total+area[j]\n",
    "print(\"Total area is :\")\n",
    "print(total,\" meteres squared\")"
   ]
  },
  {
   "cell_type": "code",
   "execution_count": 18,
   "id": "84c68ea1",
   "metadata": {},
   "outputs": [
    {
     "name": "stdout",
     "output_type": "stream",
     "text": [
      "Who is going?\n",
      "Melissa ?\n",
      "Y\n",
      "Evelyn ?\n",
      "Y\n",
      "Emmy ?\n",
      "N\n",
      "Karen ?\n",
      "N\n",
      "Norma ?\n",
      "Y\n",
      "Dorek ?\n",
      "Y\n",
      "Agnes ?\n",
      "N\n",
      "Billy ?\n",
      "Y\n",
      "Gawet ?\n",
      "Y\n",
      "Arthur ?\n",
      "N\n",
      "party attendance list:\n",
      "Melissa\n",
      "Evelyn\n",
      "Norma\n",
      "Dorek\n",
      "Billy\n",
      "Gawet\n"
     ]
    }
   ],
   "source": [
    "#Program52-Who's going to the party?\n",
    "friends=[\"Melissa\",\"Evelyn\",\"Emmy\",\"Karen\",\"Norma\",\"Dorek\",\"Agnes\",\"Billy\",\"Gawet\",\"Arthur\"]\n",
    "going=[]\n",
    "print(\"Who is going?\")\n",
    "for i in friends:\n",
    "    print(i,\"?\")\n",
    "    Ans=input()\n",
    "    if Ans==\"Y\":\n",
    "        going.append(i)\n",
    "    elif Ans==\"N\":\n",
    "        continue\n",
    "    else:\n",
    "        print(\"Type Y or N\")\n",
    "        continue\n",
    "print(\"party attendance list:\")\n",
    "for i in range(len(going)):\n",
    "    print(going[i])"
   ]
  },
  {
   "cell_type": "code",
   "execution_count": 21,
   "id": "354a0b5a",
   "metadata": {},
   "outputs": [
    {
     "name": "stdout",
     "output_type": "stream",
     "text": [
      "How many members have requested a seat?\n",
      "5\n",
      "Please enter your name.\n",
      "Hubab\n",
      "Which row would you like to sit in?\n",
      "2\n",
      "Which seat number would you like to sit in?\n",
      "3\n",
      "Thank you, your name has been added.\n",
      "Please enter your name.\n",
      "Jessica\n",
      "Which row would you like to sit in?\n",
      "3\n",
      "Which seat number would you like to sit in?\n",
      "2\n",
      "Thank you, your name has been added.\n",
      "Please enter your name.\n",
      "Danzell\n",
      "Which row would you like to sit in?\n",
      "2\n",
      "Which seat number would you like to sit in?\n",
      "1\n",
      "Thank you, your name has been added.\n",
      "Please enter your name.\n",
      "Talisha\n",
      "Which row would you like to sit in?\n",
      "4\n",
      "Which seat number would you like to sit in?\n",
      "3\n",
      "Thank you, your name has been added.\n",
      "Please enter your name.\n",
      "Andrew\n",
      "Which row would you like to sit in?\n",
      "5\n",
      "Which seat number would you like to sit in?\n",
      "4\n",
      "Thank you, your name has been added.\n",
      "Bus seats have been booked as follows:\n",
      "         0        1        2       3\n",
      "0    Empty    Empty    Empty   Empty\n",
      "1  Danzell    Empty    Hubab   Empty\n",
      "2    Empty  Jessica    Empty   Empty\n",
      "3    Empty    Empty  Talisha   Empty\n",
      "4    Empty    Empty    Empty  Andrew\n"
     ]
    }
   ],
   "source": [
    "#Program53-Bowling club day trip\n",
    "import pandas as pd\n",
    "seats=[[\"Empty\",\"Empty\",\"Empty\",\"Empty\"],\n",
    "       [\"Empty\",\"Empty\",\"Empty\",\"Empty\"],\n",
    "       [\"Empty\",\"Empty\",\"Empty\",\"Empty\"],\n",
    "       [\"Empty\",\"Empty\",\"Empty\",\"Empty\"],\n",
    "       [\"Empty\",\"Empty\",\"Empty\",\"Empty\"]]\n",
    "print(\"How many members have requested a seat?\")\n",
    "n=int(input())\n",
    "for i in range(n):\n",
    "    print(\"Please enter your name.\")\n",
    "    name=input()\n",
    "    print(\"Which row would you like to sit in?\")\n",
    "    row=int(input())-1\n",
    "    print(\"Which seat number would you like to sit in?\")\n",
    "    seat=int(input())-1\n",
    "    seats[row][seat]=name\n",
    "    print(\"Thank you, your name has been added.\")\n",
    "print(\"Bus seats have been booked as follows:\")\n",
    "df_seats=pd.DataFrame(seats)\n",
    "print(df_seats)"
   ]
  },
  {
   "cell_type": "code",
   "execution_count": 27,
   "id": "73ab64a4",
   "metadata": {},
   "outputs": [
    {
     "name": "stdout",
     "output_type": "stream",
     "text": [
      "Please enter the number of weeds counted at 1,1: 3\n",
      "Please enter the number of weeds counted at 1,2: 0\n",
      "Please enter the number of weeds counted at 1,3: 2\n",
      "Please enter the number of weeds counted at 1,4: 2\n",
      "Please enter the number of weeds counted at 1,5: 0\n",
      "Please enter the number of weeds counted at 2,1: 0\n",
      "Please enter the number of weeds counted at 2,2: 0\n",
      "Please enter the number of weeds counted at 2,3: 0\n",
      "Please enter the number of weeds counted at 2,4: 3\n",
      "Please enter the number of weeds counted at 2,5: 2\n",
      "Please enter the number of weeds counted at 3,1: 0\n",
      "Please enter the number of weeds counted at 3,2: 10\n",
      "Please enter the number of weeds counted at 3,3: 6\n",
      "Please enter the number of weeds counted at 3,4: 5\n",
      "Please enter the number of weeds counted at 3,5: 0\n",
      "Please enter the number of weeds counted at 4,1: 1\n",
      "Please enter the number of weeds counted at 4,2: 1\n",
      "Please enter the number of weeds counted at 4,3: 2\n",
      "Please enter the number of weeds counted at 4,4: 2\n",
      "Please enter the number of weeds counted at 4,5: 7\n",
      "Please enter the number of weeds counted at 5,1: 0\n",
      "Please enter the number of weeds counted at 5,2: 0\n",
      "Please enter the number of weeds counted at 5,3: 5\n",
      "Please enter the number of weeds counted at 5,4: 3\n",
      "Please enter the number of weeds counted at 5,5: 2\n",
      "The results are \n",
      "[['3', '0', '2', '2', '0'], ['0', '0', '0', '3', '2'], ['0', '10', '6', '5', '0'], ['1', '1', '2', '2', '7'], ['0', '0', '5', '3', '2']]\n",
      "56\n"
     ]
    }
   ],
   "source": [
    "#Program54-Counting weeds\n",
    "weeds=[[0]*5 for i in range(5)]\n",
    "total=0\n",
    "for j in range(5):\n",
    "    for k in range(5):\n",
    "        weed=input(\"Please enter the number of weeds counted at \"+str(j+1)+\",\"+str(k+1)+\": \")\n",
    "        weeds[j][k]=weed\n",
    "        total=total+int(weed)\n",
    "print(\"The results are \")\n",
    "print(weeds)\n",
    "print(total)"
   ]
  },
  {
   "cell_type": "code",
   "execution_count": 31,
   "id": "5e20c02f",
   "metadata": {},
   "outputs": [
    {
     "name": "stdout",
     "output_type": "stream",
     "text": [
      "Please enter the score for over 1 for team 1\n",
      "2\n",
      "1\n",
      "0\n",
      "0\n",
      "6\n",
      "6\n",
      "Please enter the score for over 2 for team 1\n",
      "3\n",
      "2\n",
      "1\n",
      "4\n",
      "1\n",
      "1\n",
      "Please enter the score for over 3 for team 1\n",
      "0\n",
      "0\n",
      "4\n",
      "3\n",
      "3\n",
      "2\n",
      "Please enter the score for over 1 for team 2\n",
      "6\n",
      "2\n",
      "1\n",
      "1\n",
      "1\n",
      "0\n",
      "Please enter the score for over 2 for team 2\n",
      "2\n",
      "1\n",
      "2\n",
      "1\n",
      "0\n",
      "0\n",
      "Please enter the score for over 3 for team 2\n",
      "3\n",
      "3\n",
      "2\n",
      "2\n",
      "0\n",
      "0\n",
      "score for team 1 is:\n",
      "39\n",
      "score for team 2 is:\n",
      "27\n",
      "Team 1 won the match.\n",
      "Do you wish to continue the result of another game?\n",
      "N\n"
     ]
    }
   ],
   "source": [
    "#Program55-Cricket over [Part3]\n",
    "while True:    \n",
    "    entire_total=[]\n",
    "    for j in range(2):\n",
    "        team_total=0\n",
    "        for k in range(3):\n",
    "            print(\"Please enter the score for over \" + str(k+1)+ \" for team \"+str(j+1))\n",
    "            total=0\n",
    "            for i in range(6):\n",
    "                score=int(input())\n",
    "                total=total + score                \n",
    "            team_total=team_total+total \n",
    "        entire_total.append(team_total)\n",
    "    for j in range(2):\n",
    "        print(\"score for team\",j+1,\"is:\")\n",
    "        print(entire_total[j])\n",
    "    if entire_total[0]>entire_total[1]:\n",
    "        print(\"Team 1 won the match.\")\n",
    "    elif entire_total[0]<entire_total[1]:\n",
    "        print(\"Team 2 won the match.\")\n",
    "    else:\n",
    "        print(\"Course are tied\")\n",
    "    print(\"Do you wish to continue the result of another game?\")\n",
    "    again=input()\n",
    "    if again==\"Y\":\n",
    "        continue\n",
    "    if again==\"N\":\n",
    "        break"
   ]
  },
  {
   "cell_type": "markdown",
   "id": "4f4bd0da",
   "metadata": {},
   "source": [
    "# SECTION5"
   ]
  },
  {
   "cell_type": "code",
   "execution_count": 33,
   "id": "b3d288ef",
   "metadata": {},
   "outputs": [
    {
     "name": "stdout",
     "output_type": "stream",
     "text": [
      "Guess the hidden number between 1 and 100\n",
      "Enter your guess\n",
      "21\n",
      "Your guess was too high. Try again\n",
      "15\n",
      "Your guess was too high. Try again\n",
      "7\n",
      "Your guess was too high. Try again\n",
      "3\n",
      "your guess was too low. Try again\n",
      "5\n",
      "Correct! Well done\n"
     ]
    }
   ],
   "source": [
    "#Program56-Guess the number [part2]\n",
    "import random\n",
    "n=random.randint(1,100)\n",
    "print(\"Guess the hidden number between 1 and 100\")\n",
    "print(\"Enter your guess\")\n",
    "while True:\n",
    "    guess=int(input())\n",
    "    if guess==n:\n",
    "        print(\"Correct! Well done\")\n",
    "        break\n",
    "    elif guess<n and guess>1:\n",
    "        print(\"your guess was too low. Try again\")\n",
    "        continue\n",
    "    elif guess>n and guess<100:\n",
    "        print(\"Your guess was too high. Try again\")\n",
    "        continue\n",
    "    else:\n",
    "        print(\"Your guess was not valid. Enter it again\")\n",
    "        continue"
   ]
  },
  {
   "cell_type": "code",
   "execution_count": 36,
   "id": "729dc7cd",
   "metadata": {},
   "outputs": [
    {
     "name": "stdout",
     "output_type": "stream",
     "text": [
      "Please enter the donated comics:\n",
      "34,56,12,3\n",
      "Liam now owns issues:\n",
      "[1, 2, 3, 7, 8, 9, 10, 16, 34, 56, 12, 3]\n"
     ]
    }
   ],
   "source": [
    "#Program57-Comic collector\n",
    "liam=[1,2,3,7,8,9,10,16]\n",
    "print(\"Please enter the donated comics:\")\n",
    "donated=list(map(int, input().split(\",\")))\n",
    "liam.extend(donated)\n",
    "print('Liam now owns issues:')\n",
    "print(liam)"
   ]
  },
  {
   "cell_type": "code",
   "execution_count": 39,
   "id": "6aac2f3a",
   "metadata": {},
   "outputs": [
    {
     "name": "stdout",
     "output_type": "stream",
     "text": [
      "Do you wish to add(A) or remove (R) a dress?\n",
      "A\n",
      "Please enter a new dress size: 12\n",
      "Stock =  [12]\n",
      "Do you wish to add(A) or remove (R) a dress?\n",
      "A\n",
      "Please enter a new dress size: 14\n",
      "Stock =  [12, 14]\n",
      "Do you wish to add(A) or remove (R) a dress?\n",
      "R\n",
      "Please enter a new dress size: 12\n",
      "Stock =  [14]\n",
      "Do you wish to add(A) or remove (R) a dress?\n",
      "A\n",
      "Please enter a new dress size: 999\n",
      "Stock =  [14]\n",
      "The largest dress in stock is 14\n",
      "The smallest dress in stock is size 14\n"
     ]
    }
   ],
   "source": [
    "#Program58-Dress sizes\n",
    "stock=[]\n",
    "while True:\n",
    "    print(\"Do you wish to add(A) or remove (R) a dress?\")\n",
    "    ans=input()\n",
    "    if ans==\"A\":\n",
    "        st1=int(input(\"Please enter a new dress size: \"))\n",
    "        if st1==999:\n",
    "            maxx=max(stock)\n",
    "            minn=min(stock)\n",
    "            print(\"Stock = \", stock)\n",
    "            print(\"The largest dress in stock is\", maxx)\n",
    "            print(\"The smallest dress in stock is size\", minn)\n",
    "            break\n",
    "        stock.append(st1)\n",
    "        print(\"Stock = \", stock)\n",
    "    elif ans==\"R\":\n",
    "        st2=int(input(\"Please enter a new dress size: \"))\n",
    "        if st2==999:\n",
    "            maxx=max(stock)\n",
    "            minn=min(stock)\n",
    "            print(\"Stock = \", stock)\n",
    "            print(\"The largest dress in stock is\", maxx)\n",
    "            print(\"The smallest dress in stock is size\", minn)\n",
    "            break\n",
    "        stock.remove(st2)\n",
    "        print(\"Stock = \", stock)\n",
    "    else:\n",
    "        print(\"Invalid\")"
   ]
  },
  {
   "cell_type": "code",
   "execution_count": 1,
   "id": "637afbfb",
   "metadata": {},
   "outputs": [
    {
     "name": "stdout",
     "output_type": "stream",
     "text": [
      "I have generated two random numbers.\n",
      "Which is largest 1 or 2\n",
      "Enter your choice\n",
      "1\n",
      "Number 1=  464\n",
      "Number 2= 266\n",
      "Correct, number 1 was the largest.\n",
      "I have generated two random numbers.\n",
      "Which is largest 1 or 2\n",
      "Enter your choice\n",
      "2\n",
      "Number 1=  313\n",
      "Number 2= 387\n",
      "Correct, number 2 was the largest.\n",
      "I have generated two random numbers.\n",
      "Which is largest 1 or 2\n",
      "Enter your choice\n",
      "2\n",
      "Number 1=  563\n",
      "Number 2= 334\n",
      "Wrong, number 1 was the largest\n",
      "I have generated two random numbers.\n",
      "Which is largest 1 or 2\n",
      "Enter your choice\n",
      "1\n",
      "Number 1=  392\n",
      "Number 2= 358\n",
      "Correct, number 1 was the largest.\n",
      "I have generated two random numbers.\n",
      "Which is largest 1 or 2\n",
      "Enter your choice\n",
      "2\n",
      "Number 1=  103\n",
      "Number 2= 882\n",
      "Correct, number 2 was the largest.\n",
      "I have generated two random numbers.\n",
      "Which is largest 1 or 2\n",
      "Enter your choice\n",
      "2\n",
      "Number 1=  197\n",
      "Number 2= 540\n",
      "Correct, number 2 was the largest.\n",
      "I have generated two random numbers.\n",
      "Which is largest 1 or 2\n",
      "Enter your choice\n",
      "1\n",
      "Number 1=  809\n",
      "Number 2= 280\n",
      "Correct, number 1 was the largest.\n",
      "I have generated two random numbers.\n",
      "Which is largest 1 or 2\n",
      "Enter your choice\n",
      "1\n",
      "Number 1=  582\n",
      "Number 2= 976\n",
      "Wrong, number 2 was the largest\n",
      "I have generated two random numbers.\n",
      "Which is largest 1 or 2\n",
      "Enter your choice\n",
      "2\n",
      "Number 1=  754\n",
      "Number 2= 581\n",
      "Wrong, number 1 was the largest\n",
      "I have generated two random numbers.\n",
      "Which is largest 1 or 2\n",
      "Enter your choice\n",
      "1\n",
      "Number 1=  100\n",
      "Number 2= 216\n",
      "Wrong, number 2 was the largest\n",
      "Your total was 6 out of 10\n",
      "Your final score was 6 correct\n"
     ]
    }
   ],
   "source": [
    "#Program59-Which is bigger?\n",
    "import random\n",
    "total=[]\n",
    "for i in range(10):\n",
    "    num1=random.randint(1,1000)\n",
    "    num2=random.randint(1,1000)\n",
    "    print(\"I have generated two random numbers.\")\n",
    "    print(\"Which is largest 1 or 2\")\n",
    "    print(\"Enter your choice\")\n",
    "    ans=int(input())\n",
    "    print(\"Number 1= \", num1)\n",
    "    print(\"Number 2=\", num2)\n",
    "    if ans==1:\n",
    "        if num1>num2:\n",
    "            print(\"Correct, number 1 was the largest.\")\n",
    "            total.append(1)\n",
    "        elif num1<num2:\n",
    "            print(\"Wrong, number 2 was the largest\")\n",
    "        else:\n",
    "            print(\"Both number were same\")\n",
    "    elif ans==2:\n",
    "        if num2>num1:\n",
    "            total.append(1)\n",
    "            print(\"Correct, number 2 was the largest.\")\n",
    "        elif num2<num1:\n",
    "            print(\"Wrong, number 1 was the largest\")\n",
    "        else:\n",
    "            print(\"Both the numbers were same\")\n",
    "    else:\n",
    "        print(\"Enter 1 or 2\")\n",
    "        continue\n",
    "print(\"Your total was\", sum(total),\"out of 10\")\n",
    "print(\"Your final score was\",sum(total),\"correct\")"
   ]
  },
  {
   "cell_type": "code",
   "execution_count": 4,
   "id": "cff6bdca",
   "metadata": {},
   "outputs": [
    {
     "name": "stdout",
     "output_type": "stream",
     "text": [
      "Enter age: 45\n",
      "Enter seat: 27\n",
      "Do you wish to enter another: Y\n",
      "Enter age: 89\n",
      "Enter seat: 4\n",
      "Do you wish to enter another: Y\n",
      "Enter age: 0\n",
      "Enter seat: 34\n",
      "Do you wish to enter another: Y\n",
      "Enter age: 0\n",
      "Enter seat: 55\n",
      "Do you wish to enter another: Y\n",
      "Enter age: 0\n",
      "Enter seat: 33\n",
      "Do you wish to enter another: Y\n",
      "Enter age: 0\n",
      "Enter seat: 24\n",
      "Do you wish to enter another: Y\n",
      "Enter age: 0\n",
      "Enter seat: 23\n",
      "Do you wish to enter another: Y\n",
      "Enter age: 0\n",
      "Enter seat: 29\n",
      "Do you wish to enter another: N\n",
      "The oldest member is sitting in seat 2\n",
      "6 audience members did not give their age\n"
     ]
    }
   ],
   "source": [
    "#Program60-Meal vouchers\n",
    "ages=[]\n",
    "seats=[]\n",
    "while True:\n",
    "    age=int(input(\"Enter age: \"))\n",
    "    ages.append(age)\n",
    "    seat=int(input(\"Enter seat: \"))\n",
    "    seats.append(seat)\n",
    "    nxt=input(\"Do you wish to enter another: \")\n",
    "    if nxt==\"Y\":\n",
    "        continue\n",
    "    elif nxt==\"N\":\n",
    "        m=max(ages)\n",
    "        n=ages.index(m)\n",
    "        z=ages.count(0)\n",
    "        print(\"The oldest member is sitting in seat\",n+1)  \n",
    "        print(z,\"audience members did not give their age\")\n",
    "        break"
   ]
  },
  {
   "cell_type": "code",
   "execution_count": 5,
   "id": "b87a23d5",
   "metadata": {},
   "outputs": [
    {
     "name": "stdout",
     "output_type": "stream",
     "text": [
      "Please enter the judges scores:\n",
      "7,8,6,9,6,8,4\n",
      "Please enter the difficulty rating\n",
      "3.4\n",
      "The three remaining judges scores are:\n",
      "7\n",
      "6\n",
      "8\n",
      "The divers score is: 71.4\n"
     ]
    }
   ],
   "source": [
    "#Program61-Diving scores\n",
    "print(\"Please enter the judges scores:\")\n",
    "scores=list(map(int, input().split(\",\")))\n",
    "print(\"Please enter the difficulty rating\")\n",
    "diff=float(input())\n",
    "for i in range(2):\n",
    "    m=max(scores)\n",
    "    n=min(scores)\n",
    "    scores.remove(m)\n",
    "    scores.remove(n)\n",
    "total=sum(scores)\n",
    "f_score=round((total*diff),1)\n",
    "print(\"The three remaining judges scores are:\")\n",
    "for j in range(3):\n",
    "    print(scores[j])\n",
    "print(\"The divers score is:\",f_score)"
   ]
  },
  {
   "cell_type": "code",
   "execution_count": 6,
   "id": "f3642c6b",
   "metadata": {},
   "outputs": [
    {
     "name": "stdout",
     "output_type": "stream",
     "text": [
      "After roll : 1 [5]\n",
      "After roll : 2 [5, 4]\n",
      "After roll : 3 [5, 4, 2]\n",
      "After roll : 4 [5, 2]\n",
      "After roll : 5 [2]\n",
      "After roll : 6 [2, 5]\n",
      "After roll : 7 [2, 5, 1]\n",
      "After roll : 8 [2, 5, 1, 4]\n",
      "After roll : 9 [2, 5, 4]\n",
      "After roll : 10 [2, 5, 4, 3]\n",
      "After roll : 11 [2, 5, 3]\n",
      "After roll : 12 [2, 5]\n",
      "After roll : 13 [2, 5, 6]\n",
      "After roll : 14 [2, 5, 6, 4]\n",
      "After roll : 15 [2, 5, 6, 4, 1]\n",
      "After roll : 16 [2, 5, 6, 1]\n",
      "After roll : 17 [2, 6, 1]\n",
      "After roll : 18 [2, 6]\n",
      "After roll : 19 [2, 6, 4]\n",
      "After roll : 20 [2, 6]\n",
      "After roll : 21 [2, 6, 1]\n",
      "After roll : 22 [2, 6]\n",
      "After roll : 23 [2, 6, 3]\n",
      "After roll : 24 [2, 6, 3, 1]\n",
      "After roll : 25 [2, 6, 3, 1, 5]\n",
      "After roll : 26 [2, 3, 1, 5]\n",
      "After roll : 27 [2, 3, 1]\n",
      "After roll : 28 [2, 1]\n",
      "After roll : 29 [2]\n",
      "After roll : 30 [2, 3]\n",
      "After roll : 31 [3]\n",
      "After roll : 32 [3, 4]\n",
      "After roll : 33 [3, 4, 5]\n",
      "After roll : 34 [3, 4, 5, 6]\n",
      "After roll : 35 [3, 4, 5, 6, 1]\n",
      "After roll : 36 [4, 5, 6, 1]\n",
      "After roll : 37 [4, 5, 6, 1, 2]\n",
      "After roll : 38 [4, 5, 6, 1, 2, 3]\n",
      "Game completed in 38 rolls of the dice.\n"
     ]
    }
   ],
   "source": [
    "#Program62-Dice solitaire game\n",
    "import random\n",
    "dice=[]\n",
    "count=0\n",
    "while True:\n",
    "    d=random.randint(1,6)\n",
    "    if dice.count(d)==0:\n",
    "        dice.append(d)\n",
    "    else:\n",
    "        dice.remove(d)\n",
    "    count=count+1    \n",
    "    print(\"After roll :\",count, dice)\n",
    "    if len(dice)==6:\n",
    "        print(\"Game completed in\",count,\"rolls of the dice.\")\n",
    "        break\n",
    "    else:\n",
    "        continue"
   ]
  },
  {
   "cell_type": "markdown",
   "id": "d5c0f73e",
   "metadata": {},
   "source": [
    "# SECTION6"
   ]
  },
  {
   "cell_type": "code",
   "execution_count": 8,
   "id": "0908f3b8",
   "metadata": {},
   "outputs": [
    {
     "name": "stdout",
     "output_type": "stream",
     "text": [
      "Do you wish to add(A) or remove (R) a dress?\n",
      "A\n",
      "Please enter a new dress size: 12\n",
      "Stock =  [12]\n",
      "Do you wish to add(A) or remove (R) a dress?\n",
      "A\n",
      "Please enter a new dress size: 14\n",
      "Stock =  [12, 14]\n",
      "Do you wish to add(A) or remove (R) a dress?\n",
      "R\n",
      "Please enter a new dress size: 12\n",
      "Stock =  [14]\n",
      "Do you wish to add(A) or remove (R) a dress?\n",
      "A\n",
      "Please enter a new dress size: 10\n",
      "Stock =  [14, 10]\n",
      "Do you wish to add(A) or remove (R) a dress?\n",
      "A\n",
      "Please enter a new dress size: 8\n",
      "Stock =  [14, 10, 8]\n",
      "Do you wish to add(A) or remove (R) a dress?\n",
      "A\n",
      "Please enter a new dress size: 12\n",
      "Stock =  [14, 10, 8, 12]\n",
      "Do you wish to add(A) or remove (R) a dress?\n",
      "A\n",
      "Please enter a new dress size: 12\n",
      "Stock =  [14, 10, 8, 12, 12]\n",
      "Do you wish to add(A) or remove (R) a dress?\n",
      "A\n",
      "Please enter a new dress size: 12\n",
      "Stock =  [14, 10, 8, 12, 12, 12]\n",
      "Do you wish to add(A) or remove (R) a dress?\n",
      "A\n",
      "Please enter a new dress size: 12\n",
      "Stock =  [14, 10, 8, 12, 12, 12, 12]\n",
      "Do you wish to add(A) or remove (R) a dress?\n",
      "A\n",
      "Please enter a new dress size: 10\n",
      "Stock =  [14, 10, 8, 12, 12, 12, 12, 10]\n",
      "Do you wish to add(A) or remove (R) a dress?\n",
      "A\n",
      "Please enter a new dress size: 16\n",
      "Stock =  [14, 10, 8, 12, 12, 12, 12, 10, 16]\n",
      "Do you wish to add(A) or remove (R) a dress?\n",
      "A\n",
      "Please enter a new dress size: 20\n",
      "Stock =  [14, 10, 8, 12, 12, 12, 12, 10, 16, 20]\n",
      "Do you wish to add(A) or remove (R) a dress?\n",
      "A\n",
      "Please enter a new dress size: 8\n",
      "Stock =  [14, 10, 8, 12, 12, 12, 12, 10, 16, 20, 8]\n",
      "Do you wish to add(A) or remove (R) a dress?\n",
      "A\n",
      "Please enter a new dress size: 999\n",
      "Enter a dress size to count: 20\n",
      "No of dresses with size 20 is 1\n",
      "Stock =  [14, 10, 8, 12, 12, 12, 12, 10, 16, 20, 8]\n",
      "The largest dress in stock is 20\n",
      "The smallest dress in stock is size 8\n"
     ]
    }
   ],
   "source": [
    "#Program63-Dress sizes (part 2)\n",
    "stock=[]\n",
    "while True:\n",
    "    print(\"Do you wish to add(A) or remove (R) a dress?\")\n",
    "    ans=input()\n",
    "    if ans==\"A\":\n",
    "        st1=int(input(\"Please enter a new dress size: \"))\n",
    "        if st1==999:\n",
    "            ds=int(input(\"Enter a dress size to count: \"))\n",
    "            def ds_count(ds):\n",
    "                h=stock.count(ds)\n",
    "                return h                                \n",
    "            print(\"No of dresses with size\",ds,\"is\",ds_count(ds))\n",
    "            maxx=max(stock)\n",
    "            minn=min(stock)\n",
    "            print(\"Stock = \", stock)\n",
    "            print(\"The largest dress in stock is\", maxx)\n",
    "            print(\"The smallest dress in stock is size\", minn)\n",
    "            break\n",
    "        stock.append(st1)\n",
    "        print(\"Stock = \", stock)\n",
    "    elif ans==\"R\":\n",
    "        st2=int(input(\"Please enter a new dress size: \"))\n",
    "        if st2==999:\n",
    "            ds=int(input(\"Enter a dress size to count: \"))\n",
    "            def ds_count(ds):\n",
    "                h=stock.count(ds)\n",
    "                return h                                \n",
    "            print(\"No of dresses with size\",ds,\"is\",ds_count(ds))\n",
    "            maxx=max(stock)\n",
    "            minn=min(stock)\n",
    "            print(\"Stock = \", stock)\n",
    "            print(\"The largest dress in stock is\", maxx)\n",
    "            print(\"The smallest dress in stock is size\", minn)\n",
    "            break\n",
    "        stock.remove(st2)\n",
    "        print(\"Stock = \", stock)\n",
    "    else:\n",
    "        print(\"Invalid\")"
   ]
  },
  {
   "cell_type": "code",
   "execution_count": 10,
   "id": "4ab68b58",
   "metadata": {},
   "outputs": [
    {
     "name": "stdout",
     "output_type": "stream",
     "text": [
      "How many charity raisers were there\n",
      "6\n",
      "Enter the total amount raised by each\n",
      "500\n",
      "188\n",
      "456\n",
      "233\n",
      "788\n",
      "345\n",
      "A total of  2510 was raised.\n",
      "This will be increased to\n",
      "4510 !!!\n"
     ]
    }
   ],
   "source": [
    "#Program64-Charity collection (part5)\n",
    "print(\"How many charity raisers were there\")\n",
    "number=int(input())\n",
    "print(\"Enter the total amount raised by each\")\n",
    "\n",
    "def tot(number):\n",
    "    T=0\n",
    "    for i in range(number):\n",
    "        total=int(input())\n",
    "        T=T+total\n",
    "\n",
    "    if T<1000:\n",
    "        T2=T+100\n",
    "    elif T>=1000 and T<=2000:\n",
    "        T2=2*T\n",
    "    elif T>2000:\n",
    "        T2=4000+(T-2000)\n",
    "    print(\"A total of \",T,\"was raised.\")\n",
    "    print(\"This will be increased to\")\n",
    "    print(T2,\"!!!\")\n",
    "tot(number)"
   ]
  },
  {
   "cell_type": "code",
   "execution_count": 12,
   "id": "91b8387a",
   "metadata": {},
   "outputs": [
    {
     "name": "stdout",
     "output_type": "stream",
     "text": [
      "What is the circumference of your wheel in millimeters?\n",
      "1250\n",
      "How many journeys do you wish to enter\n",
      "3\n",
      "How many wheel revolutions have taken place in your journey 1\n",
      "8920\n",
      "How many minutes did you cycle for journey 1\n",
      "30\n",
      "How many wheel revolutions have taken place in your journey 2\n",
      "10299\n",
      "How many minutes did you cycle for journey 2\n",
      "40\n",
      "How many wheel revolutions have taken place in your journey 3\n",
      "4920\n",
      "How many minutes did you cycle for journey 3\n",
      "26\n",
      "You covered 30.17375 km.\n",
      "At an average speed of 18.858593749999997 kmh.\n"
     ]
    }
   ],
   "source": [
    "#Program65-Cycling speed(part 2)\n",
    "print(\"What is the circumference of your wheel in millimeters?\")\n",
    "c=float(input())\n",
    "print(\"How many journeys do you wish to enter\")\n",
    "j=int(input())\n",
    "wheels=[]\n",
    "minutes=[]\n",
    "for i in range(j):\n",
    "    print(\"How many wheel revolutions have taken place in your journey\",i+1)\n",
    "    w=float(input())\n",
    "    wheels.append(w)\n",
    "    print(\"How many minutes did you cycle for journey\",i+1)\n",
    "    m=float(input())\n",
    "    minutes.append(m)\n",
    "W=sum(wheels)\n",
    "M=sum(minutes)\n",
    "\n",
    "def total_dis(c,W):\n",
    "    d=(c*W)/(10**6)\n",
    "    return d\n",
    "k=total_dis(c,W)\n",
    "def av_speed(k,M):\n",
    "    s=(k)/(M/60)\n",
    "    return s\n",
    "    \n",
    "print(\"You covered\",total_dis(c,W),\"km.\")\n",
    "print(\"At an average speed of\",av_speed(k,M),\"kmh.\")"
   ]
  },
  {
   "cell_type": "code",
   "execution_count": 14,
   "id": "db0ecd8c",
   "metadata": {},
   "outputs": [
    {
     "name": "stdout",
     "output_type": "stream",
     "text": [
      "Please enter the number of weeds counted at1,1: 3\n",
      "Please enter the number of weeds counted at1,2: 0\n",
      "Please enter the number of weeds counted at1,3: 2\n",
      "Please enter the number of weeds counted at1,4: 2\n",
      "Please enter the number of weeds counted at1,5: 0\n",
      "Please enter the number of weeds counted at2,1: 0\n",
      "Please enter the number of weeds counted at2,2: 0\n",
      "Please enter the number of weeds counted at2,3: 0\n",
      "Please enter the number of weeds counted at2,4: 3\n",
      "Please enter the number of weeds counted at2,5: 2\n",
      "Please enter the number of weeds counted at3,1: 0\n",
      "Please enter the number of weeds counted at3,2: 10\n",
      "Please enter the number of weeds counted at3,3: 6\n",
      "Please enter the number of weeds counted at3,4: 5\n",
      "Please enter the number of weeds counted at3,5: 0\n",
      "Please enter the number of weeds counted at4,1: 1\n",
      "Please enter the number of weeds counted at4,2: 1\n",
      "Please enter the number of weeds counted at4,3: 2\n",
      "Please enter the number of weeds counted at4,4: 2\n",
      "Please enter the number of weeds counted at4,5: 7\n",
      "Please enter the number of weeds counted at5,1: 0\n",
      "Please enter the number of weeds counted at5,2: 0\n",
      "Please enter the number of weeds counted at5,3: 5\n",
      "Please enter the number of weeds counted at5,4: 3\n",
      "Please enter the number of weeds counted at5,5: 2\n",
      "The results are shown below:\n",
      "[[3, 0, 2, 2, 0], [0, 0, 0, 3, 2], [0, 10, 6, 5, 0], [1, 1, 2, 2, 7], [0, 0, 5, 3, 2]]\n",
      "The total number of weeds was: 56\n",
      "We would advice that your lawn is dug up and re-laid\n"
     ]
    }
   ],
   "source": [
    "#Program66-Counting weeds (part2)\n",
    "weeds=[[0]*5 for i in range(5)]\n",
    "for j in range(5):\n",
    "    for k in range(5):\n",
    "        weeds[j][k]=int(input(\"Please enter the number of weeds counted at\"+str(j+1)+\",\"+str(k+1)+\": \"))\n",
    "\n",
    "\n",
    "\n",
    "def totalweeds(lst):\n",
    "    total=0\n",
    "    for i in range(5):\n",
    "        for l in range(5):\n",
    "            total=total+lst[i][l]\n",
    "    return total\n",
    "\n",
    "def comment(total):\n",
    "    print(\"The total number of weeds was:\", total)\n",
    "    if total<2:\n",
    "        print(\"You have a great well looked after lawn\")\n",
    "    elif total<=2 and total<=10:\n",
    "        print(\"A bit of a light weeding will help your lawn look great\")\n",
    "    elif total>10 and total<50:\n",
    "        print(\"Your lawn should be treated with environmentally friendly weed killers\")\n",
    "    elif total>=50:\n",
    "        print(\"We would advice that your lawn is dug up and re-laid\")\n",
    "\n",
    "\n",
    "\n",
    "T=totalweeds(weeds)      \n",
    "print(\"The results are shown below:\")\n",
    "print(weeds)\n",
    "comment(T)"
   ]
  },
  {
   "cell_type": "code",
   "execution_count": 15,
   "id": "89522b9a",
   "metadata": {},
   "outputs": [
    {
     "name": "stdout",
     "output_type": "stream",
     "text": [
      "Please enter your word\n",
      "music\n",
      "The random number is 3\n",
      "The password is \n",
      "44music\n"
     ]
    }
   ],
   "source": [
    "#Program67-Password generator\n",
    "import random\n",
    "print(\"Please enter your word\")\n",
    "word=input()\n",
    "n=random.randint(1,3)\n",
    "print(\"The random number is\",n)\n",
    "\n",
    "#function 1\n",
    "def textchanger1(x):\n",
    "    length=len(x)\n",
    "    k=10-length\n",
    "    if k<0:\n",
    "        return x[:10]\n",
    "    elif k>0:\n",
    "        return x\n",
    "\n",
    "#function 2 \n",
    "def textchanger2(x):\n",
    "    length=len(x)\n",
    "    num1=random.randint(10,99)\n",
    "    num2=random.randint(0,10-length)\n",
    "    num3=random.randint(0,9)\n",
    "    if length==10:\n",
    "        newword=x[:4]+str(num)+x[6:]\n",
    "        return newword\n",
    "    elif length<10 and length%2==0:\n",
    "        newword=x[:int(length/2)]+str(num3)*num2+x[int(length/2):]\n",
    "        return newword\n",
    "    elif length<10 and length%2!=0:\n",
    "        newword=x[:int((length+1)/2)]+str(num3)*num2+x[int((length+1)/2):]\n",
    "        return newword\n",
    "\n",
    "#function3\n",
    "def textchanger3(x):\n",
    "    length=len(x)\n",
    "    num1=random.randint(10,99)\n",
    "    num2=random.randint(0,10-length)\n",
    "    num3=random.randint(0,9)\n",
    "    if length==10:\n",
    "        newword=x[:4]+str(num)+x[6:]\n",
    "        return newword\n",
    "    elif length<10 and length%2==0:\n",
    "        newword=x[:int(length/2)]+x[int(length/2):]+str(num3)*num2\n",
    "        return newword\n",
    "    elif length<10 and length%2!=0:\n",
    "        newword=x[:int((length+1)/2)]+x[int((length+1)/2):]+str(num3)*num2\n",
    "        return newword\n",
    "\n",
    "#function4\n",
    "def textchanger4(x):\n",
    "    length=len(x)\n",
    "    num1=random.randint(10,99)\n",
    "    num2=random.randint(0,10-length)\n",
    "    num3=random.randint(0,9)\n",
    "    if length==10:\n",
    "        newword=x[:4]+str(num)+x[6:]\n",
    "        return newword\n",
    "    elif length<10 and length%2==0:\n",
    "        newword=x[:int(length/2)]+x[int(length/2):]\n",
    "        return newword\n",
    "    elif length<10 and length%2!=0:\n",
    "        newword=str(num3)*num2+x[:int((length+1)/2)]+x[int((length+1)/2):]\n",
    "        return newword\n",
    "\n",
    "if n==1:\n",
    "    password1=textchanger1(word)\n",
    "    password2=textchanger2(password1)\n",
    "elif n==2:\n",
    "    password1=textchanger1(word)\n",
    "    password2=textchanger3(password1)\n",
    "elif n==3:\n",
    "    password1=textchanger1(word)\n",
    "    password2=textchanger4(password1)\n",
    "\n",
    "print(\"The password is \")\n",
    "print(password2)"
   ]
  }
 ],
 "metadata": {
  "kernelspec": {
   "display_name": "Python 3",
   "language": "python",
   "name": "python3"
  },
  "language_info": {
   "codemirror_mode": {
    "name": "ipython",
    "version": 3
   },
   "file_extension": ".py",
   "mimetype": "text/x-python",
   "name": "python",
   "nbconvert_exporter": "python",
   "pygments_lexer": "ipython3",
   "version": "3.8.8"
  }
 },
 "nbformat": 4,
 "nbformat_minor": 5
}
